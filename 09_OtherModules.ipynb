{
 "cells": [
  {
   "cell_type": "markdown",
   "metadata": {},
   "source": [
    "## PyDeck\n",
    "\n",
    "deck.gl is a WebGL-powered framework for visual exploratory data analysis of large datasets ( https://deck.gl/ )\n",
    "PyDeck for Python\n",
    "\n",
    "https://deckgl.readthedocs.io/en/latest/\n",
    "    \n",
    "\n",
    "Getting Started: https://mybinder.org/v2/gh/uber/deck.gl/binder"
   ]
  },
  {
   "cell_type": "markdown",
   "metadata": {},
   "source": [
    "## Whitebox\n",
    "\n",
    "Command-line program and Python scripting API for geospatial analysis\n",
    " \n",
    "Installation:\n",
    "\n",
    "see:\n",
    "https://github.com/jblindsay/whitebox-tools\n",
    " "
   ]
  },
  {
   "cell_type": "markdown",
   "metadata": {},
   "source": [
    "## EDSA\n",
    "\n",
    "ESDA: Exploratory Spatial Data Analysis\n",
    "\n",
    "https://pysal.org/esda/"
   ]
  },
  {
   "cell_type": "markdown",
   "metadata": {},
   "source": [
    "## LeafMap\n",
    "\n",
    "As an alternative to Folium with more features, Leafmap is a Python package for interactive mapping and geospatial analysis with minimal coding in a Jupyter environment\n",
    "\n",
    "https://leafmap.org/\n",
    "\n",
    "\n",
    "Getting Started:\n",
    "https://colab.research.google.com/github/giswqs/leafmap/blob/master/examples/notebooks/00_key_features.ipynb"
   ]
  },
  {
   "cell_type": "code",
   "execution_count": null,
   "metadata": {},
   "outputs": [],
   "source": []
  }
 ],
 "metadata": {
  "kernelspec": {
   "display_name": "Python 3",
   "language": "python",
   "name": "python3"
  },
  "language_info": {
   "codemirror_mode": {
    "name": "ipython",
    "version": 3
   },
   "file_extension": ".py",
   "mimetype": "text/x-python",
   "name": "python",
   "nbconvert_exporter": "python",
   "pygments_lexer": "ipython3",
   "version": "3.7.0"
  }
 },
 "nbformat": 4,
 "nbformat_minor": 4
}
