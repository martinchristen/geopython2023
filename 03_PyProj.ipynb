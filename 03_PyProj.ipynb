{
 "cells": [
  {
   "cell_type": "markdown",
   "metadata": {},
   "source": [
    "## Coordinate Transformations using PyProj\n",
    "\n",
    "\n",
    "https://pyproj4.github.io/pyproj/stable/api/proj.html\n",
    "\n",
    "\n",
    "Example: \n",
    "\n",
    "* http://epsg.io/2056   Swiss Map Projection\n",
    "* http://epsg.io/4326   WGS84\n",
    "* http://epsg.io/3857   WebMercator (don't use 900913)\n",
    "* https://en.wikipedia.org/wiki/Universal_Transverse_Mercator_coordinate_system UTM Zones\n"
   ]
  },
  {
   "cell_type": "code",
   "execution_count": null,
   "metadata": {},
   "outputs": [],
   "source": [
    "import pyproj\n",
    "from pyproj import Transformer\n",
    "\n",
    "wgs84= \"epsg:4326\"\n",
    "lv95= \"epsg:2056\""
   ]
  },
  {
   "cell_type": "code",
   "execution_count": null,
   "metadata": {},
   "outputs": [],
   "source": [
    "transformer1 = Transformer.from_crs(\"epsg:4326\", \"epsg:2056\")\n",
    "\n",
    "r0 = transformer1.transform(47.3771216, 8.5391632)\n",
    "r0"
   ]
  },
  {
   "cell_type": "code",
   "execution_count": null,
   "metadata": {},
   "outputs": [],
   "source": [
    "transformer2 = Transformer.from_crs(\"epsg:2056\", \"epsg:4226\")\n",
    "\n",
    "r1 = transformer2.transform(2683111.9823819078, 1247947.5735251226)\n",
    "r1"
   ]
  },
  {
   "cell_type": "markdown",
   "metadata": {},
   "source": [
    "## Geodesic Line\n",
    "\n",
    "Shortest Path between two points on the surface\n",
    "\n",
    "* https://en.wikipedia.org/wiki/Geodesic\n",
    "\n",
    "\n",
    "Example: Basel to New York"
   ]
  },
  {
   "cell_type": "code",
   "execution_count": null,
   "metadata": {},
   "outputs": [],
   "source": [
    "g = pyproj.Geod(ellps='WGS84')\n",
    "\n",
    "startlong = 7.587017313\n",
    "startlat = 47.563440530\n",
    "\n",
    "endlong = -74.001457\n",
    "endlat = 40.7094328\n",
    "\n",
    "lonlats = g.npts(startlong, startlat, endlong, endlat, 30)\n",
    "\n",
    "lonlats = [(startlong, startlat)] + lonlats +  [(endlong, endlat)]  ## add start and end point\n",
    "\n",
    "print(len(lonlats))\n",
    "print(lonlats)"
   ]
  },
  {
   "cell_type": "markdown",
   "metadata": {},
   "source": [
    "### Create a GeoDataFrame\n",
    "\n",
    "We will learn more about GeoPandas soon..."
   ]
  },
  {
   "cell_type": "code",
   "execution_count": null,
   "metadata": {},
   "outputs": [],
   "source": [
    "import geopandas as gpd\n",
    "import geoplot\n",
    "from shapely.geometry import Point\n",
    "\n",
    "geodesic = [Point(xy) for xy in zip(lonlats)]\n",
    "df_geodesic = gpd.GeoDataFrame(geometry=geodesic)\n"
   ]
  },
  {
   "cell_type": "code",
   "execution_count": null,
   "metadata": {},
   "outputs": [],
   "source": [
    "filename = \"geodata/packages/natural_earth_vector.gpkg\"\n",
    "layer = \"ne_110m_admin_0_countries\"\n",
    "\n",
    "df = gpd.read_file(filename, layer=layer)\n",
    "\n",
    "ax = geoplot.polyplot(df, figsize=(16,9))\n",
    "geoplot.pointplot(df_geodesic[\"geometry\"], ax=ax);\n"
   ]
  },
  {
   "cell_type": "code",
   "execution_count": null,
   "metadata": {},
   "outputs": [],
   "source": [
    "ax = geoplot.polyplot(df, figsize=(16,9))\n",
    "ax.set_title(\"Zurich to New York\", fontsize=20)\n",
    "geoplot.pointplot(df_geodesic[\"geometry\"], extent=[-180, -90, 180, 90], ax=ax);"
   ]
  }
 ],
 "metadata": {
  "kernelspec": {
   "display_name": "GeoPython",
   "language": "python",
   "name": "geopython"
  },
  "language_info": {
   "codemirror_mode": {
    "name": "ipython",
    "version": 3
   },
   "file_extension": ".py",
   "mimetype": "text/x-python",
   "name": "python",
   "nbconvert_exporter": "python",
   "pygments_lexer": "ipython3",
   "version": "3.7.7"
  }
 },
 "nbformat": 4,
 "nbformat_minor": 4
}
