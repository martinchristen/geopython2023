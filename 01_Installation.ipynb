{
 "cells": [
  {
   "cell_type": "markdown",
   "metadata": {},
   "source": [
    "## Installing JupyterLab, Scientific & Geospatial Modules"
   ]
  },
  {
   "cell_type": "markdown",
   "metadata": {},
   "source": [
    "Using Anaconda/Miniconda is highly recommended.\n",
    "\n",
    "Get the latest Version (Windows, MacOS or Linux) here:\n",
    "\n",
    "https://www.anaconda.com/products/distribution#Downloads\n",
    "\n",
    "Install the latest Version for your operating system and let's continue."
   ]
  },
  {
   "cell_type": "markdown",
   "metadata": {},
   "source": [
    "## Jupyter Lab\n",
    "\n",
    "Jupyter is an open source project for executing programming environments in the web browser. It allows the creation of so-called “notebooks” where you can do rapid prototyping with nicely formatted documentation. Jupyter supports dozens of different programming languages, throughout this course we will use it with Python.\n",
    "\n",
    "Jupyter Lab can be started by opening an Anaconda Prompt (Windows) or a Terminal (Mac/Linux) and entering\n",
    "\n",
    "     jupyter lab\n",
    "    \n",
    "    \n",
    "After a few seconds, Jupyter Lab will start in your default web browser. Jupyter lab runs a local web server, you don't need an internet connection to run it."
   ]
  },
  {
   "cell_type": "markdown",
   "metadata": {},
   "source": [
    "## Installing the Python Geospatial Stack\n",
    "\n",
    "There are several ways to install a proper environment with all geospatial modules. The easiest is by using conda and its virtual environments. We will \n",
    "\n",
    "* Install modules for vector data processing\n",
    "* Install modules for raster data processing\n",
    "* Install modules for point cloud processing\n",
    "* Install modules to plot data on a map\n",
    "\n",
    "\n",
    "## Installing GDAL and dependencies\n",
    "\n",
    "The Geospatial Data Abstraction Library (GDAL) is a Library to manage geospatial raster\n",
    "data. The library uses an abstracted data model to handle raster data such as ASCII Grid\n",
    "files, GeoTIFF, JPEG, etc. Information about the library can be obtained at https://www.gdal.org/.\n",
    "The OGR Simple Features Library is part of GDAL and supports Vector Data. OGR used to\n",
    "stand for OpenGIS Simple Features Reference Implementation. Because OGR is not fully\n",
    "compliant to OpenGIS the name is now \"OGR Simple Features Library\" and OGR has no\n",
    "meaning anymore.\n",
    "OGR Simple Features library provides an abstracted data model for handling different\n",
    "vector data formats such as ESRI Shapefiles, KML, Geospatial PDF, etc.\n",
    "The GDAL library is written in C/C++ and has a Python binding. Installation can be quite\n",
    "hard on Windows and MacOS as the library has many dependencies. Today GDAL is available in the\n",
    "standard conda repository and installation is quite easy. For the installation of all georelated\n",
    "packages, we create a new virtual environment. At the time of writing this Python\n",
    "3.11 is available. However, we will use Python 3.9.\n",
    "\n",
    "## Creating our Geospatial Virtual Environment\n",
    "\n",
    "Conda is an open source, cross-platform package management system and languageagnostic\n",
    "package management system. It is published by Continuum Analytics under the\n",
    "BSD license. Conda allows users to easily install various versions of binary software\n",
    "packages and any libraries suitable for their computer platform. It also allows users to\n",
    "switch between package versions and download and install software repository updates.\n",
    "Virtual Environments are a good way to handle different Python Versions and different\n",
    "module versions. It is also very easy to switch from one to another virtual environment.\n",
    "Virtual Environments can be created in the Terminal (Mac/Linux) or Anaconda Prompt\n",
    "(Windows).\n",
    "\n",
    "Even though Python 3.11.x is available, we're still using Python 3.9, as not all (geo related) modules are ready yet.\n",
    "\n",
    "Let's create our environment where we will install all the modules we need in this course.\n",
    "\n",
    "\n",
    "    conda create --name geopython39 python=3.9 jupyterlab -y\n",
    "\n",
    "    conda activate geopython39\n",
    "    \n",
    "    conda install gdal rasterio matplotlib geopandas -y\n",
    "    conda install geoplot folium osmnx folium -c conda-forge -y\n",
    "    conda install pydeck -c conda-forge -y    \n",
    "\n",
    "Do this everytime from now on:\n",
    "\n",
    "    (You can ommit the notebook-dir or set to another path.)\n",
    "\n",
    "\n",
    "    conda activate geopython39\n",
    "    jupyter lab --notebook-dir C:\\notebooks\n",
    "    \n",
    "    \n",
    "    \n",
    "### Mamba\n",
    "\n",
    "Mamba accererates. While not really required, it may help in many cases, because there will be conflicts...\n",
    "\n",
    "conda install -n base mamba -c conda-forge\n",
    "\n",
    "and now instead of conda install, use \"mamba install\"\n"
   ]
  },
  {
   "cell_type": "markdown",
   "metadata": {},
   "source": []
  },
  {
   "cell_type": "code",
   "execution_count": null,
   "metadata": {},
   "outputs": [],
   "source": [
    "import geoutils\n",
    "import zipfile\n",
    "import os\n",
    "\n",
    "if not os.path.exists(\"geodata\"):\n",
    "    os.mkdir(\"geodata\")\n",
    "    geoutils.download(geoutils.geodata[\"natural-earth\"], \"geodata/ne.gpkg.zip\")\n",
    "    with zipfile.ZipFile(\"geodata/ne.gpkg.zip\", 'r') as z:\n",
    "        z.extractall(\"geodata\")"
   ]
  }
 ],
 "metadata": {
  "kernelspec": {
   "display_name": "GeoPython",
   "language": "python",
   "name": "geopython"
  },
  "language_info": {
   "codemirror_mode": {
    "name": "ipython",
    "version": 3
   },
   "file_extension": ".py",
   "mimetype": "text/x-python",
   "name": "python",
   "nbconvert_exporter": "python",
   "pygments_lexer": "ipython3",
   "version": "3.7.7"
  }
 },
 "nbformat": 4,
 "nbformat_minor": 4
}
