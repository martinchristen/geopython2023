{
 "cells": [
  {
   "cell_type": "markdown",
   "metadata": {},
   "source": [
    "### Introduction to Shapely\n",
    "\n",
    "https://shapely.readthedocs.io/en/stable/\n",
    "\n",
    "Shapely is a BSD-licensed Python package for **manipulation** and **analysis** of **planar geometric objects**. \n",
    "\n",
    "* Shapely is **not** concerned with data formats or coordinate systems.\n",
    "* Shapely is based on the widely deployed GEOS (the engine of PostGIS) and JTS (from which GEOS is ported) libraries.\n",
    "\n",
    "### Simple Feature Access\n",
    "\n",
    "http://www.opengeospatial.org/standards/sfa\n",
    "\n",
    "https://en.wikipedia.org/wiki/Simple_Features\n",
    "\n",
    "\n",
    "**Simple Feature Access** is both an Open Geospatial Consortium (OGC) and International Organization for Standardization (ISO) standard **ISO 19125** that specifies a common storage and access model of mostly two-dimensional geometries (point, line, polygon, multi-point, multi-line, etc.) used by geographic information systems.\n",
    "\n",
    "Shapely supports the following Features:\n",
    "\n",
    "| Geometry            | Description  |\n",
    "| ------------------- | -------------|\n",
    "|Point                | A single coordinate with x,y and possibly z values | \n",
    "|LineString           | One or more line segments |\n",
    "|LinearRing           | One or more line segments that forms a closed loop |\n",
    "|Polygon              | An area that is enclosed by a linear ring |\n",
    "|MultiPoint           | A collection of one or more Points |\n",
    "|MultiLineString      | A collection of one or more LineStrings |\n",
    "|MultiPolygon         | A collection of one or more Polygons |\n",
    "|GeometryCollection   | A collection of one or more geometries that may contain more than one type of geometry |\n",
    "\n"
   ]
  },
  {
   "cell_type": "markdown",
   "metadata": {},
   "source": [
    "## Operations with Polygon / MutliPolygon"
   ]
  },
  {
   "cell_type": "code",
   "execution_count": null,
   "metadata": {},
   "outputs": [],
   "source": [
    "from shapely.geometry import Polygon, Point, MultiPolygon\n",
    "\n",
    "polygon1 = Polygon([(30, 10), (40, 40), (20, 35), (10, 20), (30, 10)])\n",
    "\n",
    "print(f\"Polygon area: {polygon1.area}, polygon length: {polygon1.length}\") "
   ]
  },
  {
   "cell_type": "code",
   "execution_count": null,
   "metadata": {},
   "outputs": [],
   "source": [
    "polygon1"
   ]
  },
  {
   "cell_type": "code",
   "execution_count": null,
   "metadata": {},
   "outputs": [],
   "source": [
    "polygon2 = Polygon([(20,20),(80,30),(50,40),(20,20)])\n",
    "polygon2"
   ]
  },
  {
   "cell_type": "code",
   "execution_count": null,
   "metadata": {},
   "outputs": [],
   "source": [
    "polygon2.union(polygon1)"
   ]
  },
  {
   "cell_type": "code",
   "execution_count": null,
   "metadata": {},
   "outputs": [],
   "source": [
    "polygon2.intersection(polygon1)"
   ]
  },
  {
   "cell_type": "code",
   "execution_count": null,
   "metadata": {},
   "outputs": [],
   "source": [
    "polygon2.symmetric_difference(polygon1)"
   ]
  },
  {
   "cell_type": "code",
   "execution_count": null,
   "metadata": {},
   "outputs": [],
   "source": [
    "result = polygon2.symmetric_difference(polygon1)\n",
    "\n",
    "print(f\"Polygon area: {result.area}, polygon length: {result.length}\")"
   ]
  },
  {
   "cell_type": "code",
   "execution_count": null,
   "metadata": {},
   "outputs": [],
   "source": [
    "result.wkt # well known text"
   ]
  },
  {
   "cell_type": "code",
   "execution_count": null,
   "metadata": {},
   "outputs": [],
   "source": [
    "s = result.wkt\n",
    "type(s)"
   ]
  },
  {
   "cell_type": "code",
   "execution_count": null,
   "metadata": {},
   "outputs": [],
   "source": [
    "s = 'MULTIPOLYGON (((20 20, 34.11764705882353 22.35294117647059, 30 10, 10 20, 20 35, 40 40, 37.14285714285715 31.42857142857143, 20 20)), ((37.14285714285715 31.42857142857143, 50 40, 80 30, 34.11764705882353 22.35294117647059, 37.14285714285715 31.42857142857143)))'"
   ]
  },
  {
   "cell_type": "code",
   "execution_count": null,
   "metadata": {},
   "outputs": [],
   "source": [
    "import shapely.wkt\n",
    "\n",
    "mypolygon = shapely.wkt.loads(s)\n",
    "mypolygon"
   ]
  },
  {
   "cell_type": "markdown",
   "metadata": {},
   "source": [
    "There are also several binary operations available:\n",
    "\n",
    "- **contains** (Returns True if the interior of the object intersects the interior of the other but does not contain it, and the dimension of the intersection is less than the dimension of the one or the other.)\n",
    "- **intersects** (Returns True if the boundary and interior of the object intersect in any way with those of the other.)\n",
    "- **witin** (Returns True if the object’s boundary and interior intersect only with the interior of the other (not its boundary or exterior).\n",
    "- **touches** (Returns True if the objects have at least one point in common and their interiors do not intersect with any part of the other.)\n",
    "- **crosses** (Returns True if the interior of the object intersects the interior of the other but does not contain it, and the dimension of the intersection is less than the dimension of the one or the other.)\n",
    "- **equals** (Returns True if the set-theoretic boundary, interior, and exterior of the object coincide with those of the other.)"
   ]
  },
  {
   "cell_type": "code",
   "execution_count": null,
   "metadata": {},
   "outputs": [],
   "source": [
    "polygon1.intersects(polygon2)"
   ]
  },
  {
   "cell_type": "code",
   "execution_count": null,
   "metadata": {},
   "outputs": [],
   "source": [
    "polygon1.within(polygon2)"
   ]
  },
  {
   "cell_type": "code",
   "execution_count": null,
   "metadata": {},
   "outputs": [],
   "source": [
    "polygon1.equals(polygon1)"
   ]
  },
  {
   "cell_type": "markdown",
   "metadata": {},
   "source": [
    "## Reading Vector Files using Fiona\n",
    "\n",
    "https://github.com/Toblerity/Fiona\n",
    "\n",
    "Spatial information is not only geometry. Together with it we always have metadata (properties). Lets look at a first dataset.\n",
    "\n",
    "\n",
    "We're using the GeoPackage file format. To list all available layers:\n",
    "     \n",
    "    filename = \"geodata/packages/natural_earth_vector.gpkg\"\n",
    "    layers = fiona.listlayers(filename)\n",
    "    print(layers)\n"
   ]
  },
  {
   "cell_type": "code",
   "execution_count": null,
   "metadata": {},
   "outputs": [],
   "source": [
    "import fiona\n",
    "\n",
    "fiona.supported_drivers"
   ]
  },
  {
   "cell_type": "code",
   "execution_count": null,
   "metadata": {},
   "outputs": [],
   "source": [
    "if 'GPKG' in fiona.supported_drivers:\n",
    "    print(\"GeoPackage is supported...\")"
   ]
  },
  {
   "cell_type": "code",
   "execution_count": null,
   "metadata": {},
   "outputs": [],
   "source": [
    "import fiona\n",
    "\n",
    "c = fiona.open('geodata/packages/natural_earth_vector.gpkg', 'r', layer='ne_10m_airports')\n",
    "\n",
    "airport = next(iter(c))\n",
    "airport"
   ]
  },
  {
   "cell_type": "code",
   "execution_count": null,
   "metadata": {},
   "outputs": [],
   "source": [
    "airport['properties']['name']"
   ]
  },
  {
   "cell_type": "code",
   "execution_count": null,
   "metadata": {},
   "outputs": [],
   "source": [
    "airport['geometry']['type']"
   ]
  },
  {
   "cell_type": "code",
   "execution_count": null,
   "metadata": {},
   "outputs": [],
   "source": [
    "airport['geometry']['coordinates']"
   ]
  },
  {
   "cell_type": "code",
   "execution_count": null,
   "metadata": {},
   "outputs": [],
   "source": [
    "c.close()"
   ]
  },
  {
   "cell_type": "markdown",
   "metadata": {},
   "source": [
    "Lets read all data. There are basically two ways:\n",
    "\n",
    "a) load everything to memory: (if dataset isn't too large...)\n",
    "\n",
    "    alldata = list(c)\n",
    "    \n",
    "b) iterate through all data: (one by one):\n",
    "\n",
    "    for element in c:\n",
    "        ..."
   ]
  },
  {
   "cell_type": "code",
   "execution_count": null,
   "metadata": {},
   "outputs": [],
   "source": [
    "with fiona.open('geodata/packages/natural_earth_vector.gpkg', 'r', layer='ne_10m_airports') as c:\n",
    "    for airport in c:\n",
    "        if airport['properties']['iata_code'] == \"ZRH\":\n",
    "            #print(airport['properties']['name'])\n",
    "            #print(airport['geometry']['coordinates'])\n",
    "            #print(airport['properties']['wikipedia'])\n",
    "            print(airport)"
   ]
  },
  {
   "cell_type": "code",
   "execution_count": null,
   "metadata": {},
   "outputs": [],
   "source": [
    "with fiona.open('geodata/packages/natural_earth_vector.gpkg', 'r', layer='ne_10m_airports') as c:\n",
    "    print(c.crs)"
   ]
  },
  {
   "cell_type": "code",
   "execution_count": null,
   "metadata": {},
   "outputs": [],
   "source": [
    "import fiona\n",
    "\n",
    "c = fiona.open('geodata/packages/natural_earth_vector.gpkg', 'r', layer='ne_10m_admin_0_countries')\n",
    "\n",
    "country = next(iter(c))\n",
    "\n",
    "print(country['properties']['NAME'])\n",
    "print(country['properties']['NAME_ZH'])\n",
    "print(country['properties']['CONTINENT'])\n",
    "print(country['properties']['POP_EST'])\n",
    "print(country['properties']['POP_YEAR'])\n"
   ]
  },
  {
   "cell_type": "code",
   "execution_count": null,
   "metadata": {},
   "outputs": [],
   "source": [
    "with fiona.open('geodata/packages/natural_earth_vector.gpkg', 'r', layer='ne_10m_admin_0_countries') as c:\n",
    "    for country in c:\n",
    "        if country['properties']['NAME'] == \"Switzerland\":\n",
    "            print(country['properties']['POP_EST'])\n",
    "            print(country['properties']['POP_YEAR'])   \n",
    "            print(country['geometry']['type'])\n",
    "            # print(country['geometry']['coordinates']) # you don't want to print all coordinates!\n",
    "            geomtype = country['geometry']['type']\n",
    "            geometry = country['geometry']\n"
   ]
  },
  {
   "cell_type": "markdown",
   "metadata": {},
   "source": [
    "## Draw Shapely Polygon using cartopy"
   ]
  },
  {
   "cell_type": "code",
   "execution_count": null,
   "metadata": {},
   "outputs": [],
   "source": [
    "%matplotlib inline\n",
    "import matplotlib.pyplot as plt\n",
    "import cartopy.crs as ccrs"
   ]
  },
  {
   "cell_type": "markdown",
   "metadata": {},
   "source": [
    "Previously we had this shape:"
   ]
  },
  {
   "cell_type": "code",
   "execution_count": null,
   "metadata": {},
   "outputs": [],
   "source": [
    "result"
   ]
  },
  {
   "cell_type": "markdown",
   "metadata": {},
   "source": [
    "Now let's display this in Cartopy using PlateCarree:\n",
    "\n",
    "Note, that we need a projection to use Plate Carree."
   ]
  },
  {
   "cell_type": "code",
   "execution_count": null,
   "metadata": {},
   "outputs": [],
   "source": [
    "from cartopy.feature import ShapelyFeature\n",
    "from shapely.geometry import shape\n",
    "\n",
    "proj = ccrs.PlateCarree()\n",
    "\n",
    "ax = plt.axes(projection=proj)\n",
    "ax.set_extent((result.bounds[0], result.bounds[2], result.bounds[1], result.bounds[3]), crs=ccrs.PlateCarree())\n",
    "shape_feature = ShapelyFeature([result], ccrs.PlateCarree(), facecolor='#AAFFAA', edgecolor='k')\n",
    "ax.add_feature(shape_feature);\n",
    "\n",
    "gl = ax.gridlines(crs=ccrs.PlateCarree(), draw_labels=True,\n",
    "                  linewidth=2, color='gray', alpha=0.1, linestyle='--')\n",
    "gl.xlabels_top = False\n",
    "gl.ylabels_left = False\n",
    "gl.xlabel_style = {'size': 10, 'color': 'black'}\n",
    "gl.ylabel_style = {'size': 10, 'color': 'black'}\n"
   ]
  },
  {
   "cell_type": "markdown",
   "metadata": {},
   "source": [
    "Let's plot the Switzerland Polygon using Cartopy:"
   ]
  },
  {
   "cell_type": "code",
   "execution_count": null,
   "metadata": {},
   "outputs": [],
   "source": [
    "from cartopy.feature import ShapelyFeature\n",
    "from shapely.geometry import shape\n",
    "from shapely.geometry import Polygon\n",
    "\n",
    "ch = Polygon(shape(geometry))\n",
    "\n",
    "######################\n",
    "proj = ccrs.Mercator()\n",
    "######################\n",
    "\n",
    "ax = plt.axes(projection=proj)\n",
    "ax.set_extent((ch.bounds[0], ch.bounds[2], ch.bounds[1], ch.bounds[3]), crs=ccrs.PlateCarree())\n",
    "shape_feature = ShapelyFeature([ch], ccrs.PlateCarree(), facecolor='#AAFFAA', edgecolor='k')\n",
    "ax.add_feature(shape_feature)\n",
    "\n",
    "gl = ax.gridlines(crs=ccrs.PlateCarree(), draw_labels=True,\n",
    "                  linewidth=1, color='black', alpha=0.5, linestyle='--')"
   ]
  },
  {
   "cell_type": "code",
   "execution_count": null,
   "metadata": {},
   "outputs": [],
   "source": [
    "proj = ccrs.PlateCarree()\n",
    "\n",
    "ax = plt.axes(projection=proj)\n",
    "ax.set_extent((ch.bounds[0], ch.bounds[2], ch.bounds[1], ch.bounds[3]), crs=ccrs.PlateCarree())\n",
    "shape_feature = ShapelyFeature([ch], ccrs.PlateCarree(), facecolor='#AAFFAA', edgecolor='k')\n",
    "ax.add_feature(shape_feature);\n",
    "\n",
    "gl = ax.gridlines(crs=ccrs.PlateCarree(), draw_labels=True, linewidth=1, color='gray', alpha=0.5, linestyle='--')"
   ]
  },
  {
   "cell_type": "code",
   "execution_count": null,
   "metadata": {},
   "outputs": [],
   "source": [
    "x = [8.539418]\n",
    "y = [47.378115]  # Zurich, Switzerland\n",
    "\n",
    "proj = ccrs.Mercator()\n",
    "\n",
    "plt.figure(figsize=(15, 9))\n",
    "ax = plt.axes(projection=proj)\n",
    "ax.set_extent((ch.bounds[0], ch.bounds[2], ch.bounds[1], ch.bounds[3]), crs=ccrs.PlateCarree())\n",
    "shape_feature = ShapelyFeature([ch], ccrs.PlateCarree(), facecolor='#EEFFFF', edgecolor='k')\n",
    "ax.add_feature(shape_feature);\n",
    "ax.plot(x,y, color='blue', linewidth=2, marker='o', transform=ccrs.Geodetic())\n",
    "plt.text(x[0], y[0]*1.0005, \n",
    "         \"Zürich\", \n",
    "         horizontalalignment='center', \n",
    "         weight=\"regular\", \n",
    "         color=\"blue\", \n",
    "         fontsize=10, \n",
    "         transform=ccrs.Geodetic());\n",
    "gl = ax.gridlines(crs=ccrs.PlateCarree(), draw_labels=True, linewidth=1, color='gray', alpha=0.5, linestyle='--')"
   ]
  },
  {
   "cell_type": "markdown",
   "metadata": {},
   "source": [
    "## Find Airports inside the polygon\n",
    "\n",
    "First we convert it to a shapely Polygon. If you use another country, it may be a Multipolygon, check the output above!"
   ]
  },
  {
   "cell_type": "code",
   "execution_count": null,
   "metadata": {},
   "outputs": [],
   "source": [
    "from shapely.geometry import shape\n",
    "from shapely.geometry import Polygon   # oder MultiPolygon für andere Länder\n",
    "\n",
    "ch = Polygon(shape(geometry))\n",
    "ch"
   ]
  },
  {
   "cell_type": "code",
   "execution_count": null,
   "metadata": {},
   "outputs": [],
   "source": [
    "from shapely.geometry import Point\n",
    "\n",
    "with fiona.open('geodata/packages/natural_earth_vector.gpkg', 'r', layer='ne_10m_airports') as c:\n",
    "    for airport in c:      \n",
    "        position = Point(airport['geometry']['coordinates'])\n",
    "        if position.within(ch):\n",
    "            print(airport['properties']['iata_code'], airport['properties']['name'], airport['geometry']['coordinates'])"
   ]
  },
  {
   "cell_type": "markdown",
   "metadata": {},
   "source": [
    "### Find Areas with a population greater than 75'000 inside the Polygon"
   ]
  },
  {
   "cell_type": "code",
   "execution_count": null,
   "metadata": {},
   "outputs": [],
   "source": [
    "import fiona\n",
    "\n",
    "cnt = 0\n",
    "with fiona.open('geodata/packages/natural_earth_vector.gpkg', 'r', layer='ne_10m_populated_places') as c:\n",
    "    for place in c:\n",
    "        geom = place[\"geometry\"]\n",
    "        position = Point(place['geometry']['coordinates'])\n",
    "        name = place[\"properties\"][\"NAME\"]\n",
    "        pop = int(place[\"properties\"][\"POP_MAX\"])\n",
    "        cnt+=1\n",
    "        if pop>25000 and position.within(ch):\n",
    "            print(name, pop, position)\n",
    "print(cnt)"
   ]
  },
  {
   "cell_type": "code",
   "execution_count": null,
   "metadata": {},
   "outputs": [],
   "source": [
    "proj = ccrs.Mercator()\n",
    "\n",
    "plt.figure(figsize=(15, 9))\n",
    "ax = plt.axes(projection=proj)\n",
    "ax.set_extent((ch.bounds[0], ch.bounds[2], ch.bounds[1], ch.bounds[3]), crs=ccrs.PlateCarree())\n",
    "shape_feature = ShapelyFeature([ch], ccrs.PlateCarree(), facecolor='#EEFFFF', edgecolor='k')\n",
    "ax.add_feature(shape_feature);\n",
    "\n",
    "with fiona.open('geodata/packages/natural_earth_vector.gpkg', 'r', layer='ne_10m_populated_places') as c:\n",
    "    for place in c:\n",
    "        geom = place[\"geometry\"]\n",
    "        position = Point(place['geometry']['coordinates'])\n",
    "        name = place[\"properties\"][\"NAME\"]\n",
    "        pop = int(place[\"properties\"][\"POP_MAX\"])\n",
    "        if pop>25000 and position.within(ch):\n",
    "            ax.plot(position.x, position.y, color='blue', linewidth=2, marker='o', transform=ccrs.Geodetic())\n",
    "            plt.text(position.x, position.y*1.0005, \n",
    "                 name, \n",
    "                 horizontalalignment='center', \n",
    "                 weight=\"regular\", \n",
    "                 color=\"black\", \n",
    "                 fontsize=10, \n",
    "                 transform=ccrs.Geodetic());"
   ]
  },
  {
   "cell_type": "code",
   "execution_count": null,
   "metadata": {},
   "outputs": [],
   "source": []
  },
  {
   "cell_type": "code",
   "execution_count": null,
   "metadata": {},
   "outputs": [],
   "source": []
  },
  {
   "cell_type": "code",
   "execution_count": null,
   "metadata": {},
   "outputs": [],
   "source": []
  },
  {
   "cell_type": "code",
   "execution_count": null,
   "metadata": {},
   "outputs": [],
   "source": []
  }
 ],
 "metadata": {
  "kernelspec": {
   "display_name": "GeoPython",
   "language": "python",
   "name": "geopython"
  },
  "language_info": {
   "codemirror_mode": {
    "name": "ipython",
    "version": 3
   },
   "file_extension": ".py",
   "mimetype": "text/x-python",
   "name": "python",
   "nbconvert_exporter": "python",
   "pygments_lexer": "ipython3",
   "version": "3.7.7"
  }
 },
 "nbformat": 4,
 "nbformat_minor": 4
}
