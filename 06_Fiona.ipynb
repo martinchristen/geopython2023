{
 "cells": [
  {
   "cell_type": "markdown",
   "metadata": {},
   "source": [
    "## Reading Vector Files using Fiona\n",
    "\n",
    "https://github.com/Toblerity/Fiona\n",
    "\n",
    "\n",
    "Fiona streams simple feature data to and from GIS formats like GeoPackage and Shapefile.\n",
    "\n",
    "Fiona can read and write real-world data using multi-layered GIS formats, zipped and in-memory virtual file systems, from files on your hard drive or in cloud storage. This project includes Python modules and a command line interface (CLI).\n",
    "\n",
    "Fiona depends on GDAL but is different from GDAL's own bindings. Fiona is designed to be highly productive and to make it easy to write code which is easy to read.\n",
    "\n",
    "We're using the GeoPackage file format. To list all available layers:"
   ]
  },
  {
   "cell_type": "markdown",
   "metadata": {},
   "source": [
    "## Data\n",
    "\n",
    "Let's download some data we need later. \n",
    "\n",
    "**Natural Earth** is a public domain map dataset available at 1:10m, 1:50m, and 1:110 million scales. Featuring tightly integrated vector and raster data, with Natural Earth you can make a variety of visually pleasing, well-crafted maps with cartography or GIS software. More info: https://www.naturalearthdata.com/"
   ]
  },
  {
   "cell_type": "code",
   "execution_count": 1,
   "metadata": {},
   "outputs": [
    {
     "name": "stdout",
     "output_type": "stream",
     "text": [
      "Downloading geodata/ne.gpkg.zip from http://naciscdn.org/naturalearth/packages/natural_earth_vector.gpkg.zip\n",
      "100% done \t[****************************************************************************************************]\n"
     ]
    }
   ],
   "source": [
    "import geoutils\n",
    "import zipfile\n",
    "import os\n",
    "\n",
    "if not os.path.exists(\"geodata\"):\n",
    "    os.mkdir(\"geodata\")\n",
    "    geoutils.download(geoutils.geodata[\"natural-earth\"], \"geodata/ne.gpkg.zip\")\n",
    "    with zipfile.ZipFile(\"geodata/ne.gpkg.zip\", 'r') as z:\n",
    "        z.extractall(\"geodata\")"
   ]
  },
  {
   "cell_type": "code",
   "execution_count": null,
   "metadata": {},
   "outputs": [],
   "source": [
    "import fiona\n",
    "\n",
    "fiona.supported_drivers"
   ]
  },
  {
   "cell_type": "code",
   "execution_count": null,
   "metadata": {},
   "outputs": [],
   "source": [
    "if 'GPKG' in fiona.supported_drivers:\n",
    "    print(\"GeoPackage is supported...\")"
   ]
  },
  {
   "cell_type": "code",
   "execution_count": null,
   "metadata": {},
   "outputs": [],
   "source": [
    "import fiona\n",
    "\n",
    "c = fiona.open('geodata/packages/natural_earth_vector.gpkg', 'r', layer='ne_10m_airports')\n",
    "\n",
    "airport = next(iter(c))\n",
    "airport"
   ]
  },
  {
   "cell_type": "code",
   "execution_count": null,
   "metadata": {},
   "outputs": [],
   "source": [
    "airport['properties']['name']"
   ]
  },
  {
   "cell_type": "code",
   "execution_count": null,
   "metadata": {},
   "outputs": [],
   "source": [
    "airport['geometry']['type']"
   ]
  },
  {
   "cell_type": "code",
   "execution_count": null,
   "metadata": {},
   "outputs": [],
   "source": [
    "airport['geometry']['coordinates']"
   ]
  },
  {
   "cell_type": "code",
   "execution_count": null,
   "metadata": {},
   "outputs": [],
   "source": [
    "c.close()"
   ]
  },
  {
   "cell_type": "markdown",
   "metadata": {},
   "source": [
    "Lets read all data. There are basically two ways:\n",
    "\n",
    "a) load everything to memory: (if dataset isn't too large...)\n",
    "\n",
    "    alldata = list(c)\n",
    "    \n",
    "b) iterate through all data: (one by one):\n",
    "\n",
    "    for element in c:\n",
    "        ..."
   ]
  },
  {
   "cell_type": "code",
   "execution_count": null,
   "metadata": {},
   "outputs": [],
   "source": [
    "with fiona.open('geodata/packages/natural_earth_vector.gpkg', 'r', layer='ne_10m_airports') as c:\n",
    "    for airport in c:\n",
    "        if airport['properties']['iata_code'] == \"ZRH\":\n",
    "            #print(airport['properties']['name'])\n",
    "            #print(airport['geometry']['coordinates'])\n",
    "            #print(airport['properties']['wikipedia'])\n",
    "            print(airport)"
   ]
  },
  {
   "cell_type": "code",
   "execution_count": null,
   "metadata": {},
   "outputs": [],
   "source": [
    "with fiona.open('geodata/packages/natural_earth_vector.gpkg', 'r', layer='ne_10m_airports') as c:\n",
    "    print(c.crs)"
   ]
  },
  {
   "cell_type": "code",
   "execution_count": null,
   "metadata": {},
   "outputs": [],
   "source": [
    "import fiona\n",
    "\n",
    "c = fiona.open('geodata/packages/natural_earth_vector.gpkg', 'r', layer='ne_10m_admin_0_countries')\n",
    "\n",
    "country = next(iter(c))\n",
    "\n",
    "print(country['properties']['NAME'])\n",
    "print(country['properties']['NAME_ZH'])\n",
    "print(country['properties']['CONTINENT'])\n",
    "print(country['properties']['POP_EST'])\n",
    "print(country['properties']['POP_YEAR'])\n"
   ]
  },
  {
   "cell_type": "code",
   "execution_count": null,
   "metadata": {},
   "outputs": [],
   "source": [
    "\n",
    "\n",
    "with fiona.open('geodata/packages/natural_earth_vector.gpkg', 'r', layer='ne_10m_admin_0_countries') as c:\n",
    "    for country in c:\n",
    "        if country['properties']['NAME'] == \"Switzerland\":\n",
    "            print(country['properties']['POP_EST'])\n",
    "            print(country['properties']['POP_YEAR'])   \n",
    "            print(country['geometry']['type'])\n",
    "            # print(country['geometry']['coordinates']) # you don't want to print all coordinates!\n",
    "            geomtype = country['geometry']['type']\n",
    "            geometry = country['geometry']                 "
   ]
  },
  {
   "cell_type": "markdown",
   "metadata": {},
   "source": [
    "## Find Airports inside the polygon\n",
    "\n",
    "First we convert it to a shapely Polygon. If you use another country, it may be a Multipolygon, check the output above!"
   ]
  },
  {
   "cell_type": "code",
   "execution_count": null,
   "metadata": {},
   "outputs": [],
   "source": [
    "from shapely.geometry import shape\n",
    "from shapely.geometry import Polygon\n",
    "\n",
    "ch = Polygon(shape(geometry))  # some other countries are MultiPolygon, check the type!\n",
    "ch"
   ]
  },
  {
   "cell_type": "code",
   "execution_count": null,
   "metadata": {},
   "outputs": [],
   "source": [
    "from shapely.geometry import Point\n",
    "\n",
    "with fiona.open('geodata/packages/natural_earth_vector.gpkg', 'r', layer='ne_10m_airports') as c:\n",
    "    for airport in c:      \n",
    "        position = Point(airport['geometry']['coordinates'])\n",
    "        if position.within(ch):\n",
    "            print(airport['properties']['iata_code'], airport['properties']['name'], airport['geometry']['coordinates'])"
   ]
  },
  {
   "cell_type": "markdown",
   "metadata": {},
   "source": [
    "### Find Areas with a population greater than 25'000 inside the Polygon"
   ]
  },
  {
   "cell_type": "code",
   "execution_count": null,
   "metadata": {},
   "outputs": [],
   "source": [
    "import fiona\n",
    "\n",
    "cnt = 0\n",
    "with fiona.open('geodata/packages/natural_earth_vector.gpkg', 'r', layer='ne_10m_populated_places') as c:\n",
    "    for place in c:\n",
    "        geom = place[\"geometry\"]\n",
    "        position = Point(place['geometry']['coordinates'])\n",
    "        name = place[\"properties\"][\"NAME\"]\n",
    "        pop = int(place[\"properties\"][\"POP_MAX\"])\n",
    "        cnt+=1\n",
    "        if pop>25000 and position.within(ch):\n",
    "            print(name, pop, position)\n",
    "            \n",
    "print(cnt)"
   ]
  }
 ],
 "metadata": {
  "kernelspec": {
   "display_name": "GeoPython",
   "language": "python",
   "name": "geopython"
  },
  "language_info": {
   "codemirror_mode": {
    "name": "ipython",
    "version": 3
   },
   "file_extension": ".py",
   "mimetype": "text/x-python",
   "name": "python",
   "nbconvert_exporter": "python",
   "pygments_lexer": "ipython3",
   "version": "3.7.7"
  }
 },
 "nbformat": 4,
 "nbformat_minor": 4
}
