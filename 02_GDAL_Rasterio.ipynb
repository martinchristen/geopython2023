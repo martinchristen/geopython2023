{
 "cells": [
  {
   "cell_type": "markdown",
   "metadata": {},
   "source": [
    "## Raster Data"
   ]
  },
  {
   "cell_type": "markdown",
   "metadata": {},
   "source": [
    "#### GDAL\n",
    "\n",
    "Geospatial Data Abstraction Library http://www.gdal.org\n",
    "\n",
    "Supports more than 100 **Raster Formats**\n",
    "\n",
    "#### Rasterio\n",
    "\n",
    "Uses GDAL and has a Pythonic interface\n",
    "\n",
    "https://github.com/mapbox/rasterio  <br/>\n",
    "https://rasterio.readthedocs.io/en/stable/\n"
   ]
  },
  {
   "cell_type": "markdown",
   "metadata": {},
   "source": [
    "Download example rasterdata\n",
    "\n",
    "### What is a Worldfile ?\n",
    "\n",
    "Georeferencing Raster Data using \"World files\".<br/>\n",
    "The specification was introduced by Esri.\n",
    "\n",
    "* TIFF -> .tfw  \n",
    "* PNG -> .pgw \n",
    "* JPEG -> .jgw  \n",
    "* GIF   -> .gfw\n",
    "\n",
    "**ASCII Text file associated with the image**\n",
    "\n",
    "* Line 1: A: pixel size in the x-direction in map units/pixel\n",
    "* Line 2: D: rotation about y-axis  (-> most cases 0)\n",
    "* Line 3: B: rotation about x-axis  (-> most cases 0)\n",
    "* Line 4: E: pixel size in the y-direction in map units, almost always negative\n",
    "* Line 5: C: x-coordinate of the center of the upper left pixel\n",
    "* Line 6: F: y-coordinate of the center of the upper left pixel\n",
    "\n"
   ]
  },
  {
   "cell_type": "code",
   "execution_count": null,
   "metadata": {},
   "outputs": [],
   "source": [
    "import geoutils"
   ]
  },
  {
   "cell_type": "code",
   "execution_count": null,
   "metadata": {},
   "outputs": [],
   "source": [
    "path = \"http://data.geopython.xyz/bluemarble/\"\n",
    "world = \"world.tif\"\n",
    "worldfile = \"world.tfw\""
   ]
  },
  {
   "cell_type": "code",
   "execution_count": null,
   "metadata": {},
   "outputs": [],
   "source": [
    "geoutils.download(path+world, \"geodata/world.tif\")\n",
    "geoutils.download(path+worldfile, \"geodata/world.tfw\")"
   ]
  },
  {
   "cell_type": "markdown",
   "metadata": {},
   "source": [
    "## 1. Using GDAL (Python Binding)"
   ]
  },
  {
   "cell_type": "code",
   "execution_count": null,
   "metadata": {},
   "outputs": [],
   "source": [
    "from osgeo import gdal\n",
    "from osgeo.gdalconst import *\n",
    "import numpy as np"
   ]
  },
  {
   "cell_type": "code",
   "execution_count": null,
   "metadata": {},
   "outputs": [],
   "source": [
    "dataset = gdal.Open(\"geodata/world.tif\")\n",
    "if dataset is None:\n",
    "    raise IOError(\"can't open dataset!\")"
   ]
  },
  {
   "cell_type": "code",
   "execution_count": null,
   "metadata": {},
   "outputs": [],
   "source": [
    "geotransform = dataset.GetGeoTransform()"
   ]
  },
  {
   "cell_type": "code",
   "execution_count": null,
   "metadata": {},
   "outputs": [],
   "source": [
    "print(geotransform)"
   ]
  },
  {
   "cell_type": "code",
   "execution_count": null,
   "metadata": {},
   "outputs": [],
   "source": [
    "width = dataset.RasterXSize\n",
    "height = dataset.RasterYSize\n",
    "print(width, height)"
   ]
  },
  {
   "cell_type": "markdown",
   "metadata": {},
   "source": [
    "#### Worldfile\n",
    "\n",
    "* Image Size is ist 2048 x 1024\n",
    "* Extent is (-180, -90) to (+180, +90)\n",
    "\n",
    "\n",
    "* Line 1: Pixel size in x direction: 360/2048 \n",
    "* Line 2: 0 (no Rotation)\n",
    "* Line 3: 0 (no Rotation)\n",
    "* Line 4: Pixel size in y direction: -180/1024 \n",
    "* Line 5: x-coordinate of the **center** UL Pixel\n",
    "* Line 6: y-coordinate of the **center** UL Pixel\n",
    "\n",
    "\n",
    "Difference between Geotransform and World-File?"
   ]
  },
  {
   "cell_type": "code",
   "execution_count": null,
   "metadata": {},
   "outputs": [],
   "source": [
    "!cat geodata/world.tfw"
   ]
  },
  {
   "cell_type": "code",
   "execution_count": null,
   "metadata": {},
   "outputs": [],
   "source": [
    "nbytes = 3*dataset.RasterXSize*dataset.RasterYSize\n",
    "print(\"memory required:\", nbytes, \"Bytes\")\n",
    "print(\"memory required:\", nbytes/1024, \"KB\")\n",
    "print(\"memory required:\", nbytes/1024/1024, \"MB\")\n",
    "print(\"memory required:\", nbytes/1024/1024/1024, \"GB\")"
   ]
  },
  {
   "cell_type": "code",
   "execution_count": null,
   "metadata": {},
   "outputs": [],
   "source": [
    "# Close the file:\n",
    "dataset = None"
   ]
  },
  {
   "cell_type": "markdown",
   "metadata": {},
   "source": [
    "Let's convert our file using the gdal programs (https://gdal.org/programs/index.html)\n",
    "\n",
    "gdal_translate -of GTiff -a_srs EPSG:4326 input_file.tif output_file.tif -outsize 2048 1024 \n",
    "\n",
    "open a terminal and enter:\n",
    "\n",
    "`gdal_translate -of GTiff -a_srs EPSG:4326 geodata/world.tif geodata/bluemarble.tif`\n"
   ]
  },
  {
   "cell_type": "code",
   "execution_count": null,
   "metadata": {},
   "outputs": [],
   "source": [
    "dataset = gdal.Open(\"geodata/world.tif\")\n",
    "if dataset is None:\n",
    "    print(\"error\")"
   ]
  },
  {
   "cell_type": "code",
   "execution_count": null,
   "metadata": {},
   "outputs": [],
   "source": [
    "def pixelToMap(gt, pos):\n",
    "    return (gt[0] + pos[0] * gt[1] + pos[1] * gt[2],\n",
    "            gt[3] + pos[0] * gt[4] + pos[1] * gt[5])"
   ]
  },
  {
   "cell_type": "code",
   "execution_count": null,
   "metadata": {},
   "outputs": [],
   "source": [
    "pixelToMap(geotransform, (0,0))"
   ]
  },
  {
   "cell_type": "code",
   "execution_count": null,
   "metadata": {},
   "outputs": [],
   "source": [
    "pixelToMap(geotransform, (2049,1024))"
   ]
  },
  {
   "cell_type": "code",
   "execution_count": null,
   "metadata": {},
   "outputs": [],
   "source": [
    "def mapToPixel(gt, pos): \n",
    "    return (int((pos[0] - gt[0]) / gt[1]), \n",
    "            int((pos[1] - gt[3]) / gt[5]))"
   ]
  },
  {
   "cell_type": "code",
   "execution_count": null,
   "metadata": {},
   "outputs": [],
   "source": [
    "mapToPixel(geotransform, (7.6380743, 47.5343704))"
   ]
  },
  {
   "cell_type": "markdown",
   "metadata": {},
   "source": [
    "### Reading Data"
   ]
  },
  {
   "cell_type": "code",
   "execution_count": null,
   "metadata": {},
   "outputs": [],
   "source": [
    "bands = dataset.RasterCount   # number of \"channels\", for example red+green+blue = 3\n",
    "print(bands)"
   ]
  },
  {
   "cell_type": "code",
   "execution_count": null,
   "metadata": {},
   "outputs": [],
   "source": [
    "redband = dataset.GetRasterBand(1)\n",
    "greenband = dataset.GetRasterBand(2)\n",
    "blueband = dataset.GetRasterBand(3)"
   ]
  },
  {
   "cell_type": "code",
   "execution_count": null,
   "metadata": {},
   "outputs": [],
   "source": [
    "redband.DataType"
   ]
  },
  {
   "cell_type": "code",
   "execution_count": null,
   "metadata": {},
   "outputs": [],
   "source": [
    "gdal.GDT_Byte\n",
    "gdal.GDT_UInt16\n",
    "gdal.GDT_UInt32\n",
    "gdal.GDT_Int16\n",
    "gdal.GDT_Int32\n",
    "gdal.GDT_Float32\n",
    "gdal.GDT_Float64\n",
    "\n",
    "print(\"typical C..\")"
   ]
  },
  {
   "cell_type": "code",
   "execution_count": null,
   "metadata": {},
   "outputs": [],
   "source": [
    "if redband.DataType == gdal.GDT_Byte:\n",
    "    print(\"band is of datatype byte\")"
   ]
  },
  {
   "cell_type": "code",
   "execution_count": null,
   "metadata": {},
   "outputs": [],
   "source": [
    "r = redband.ReadAsArray()   # Optional parameters: (xoff, yoff, xsize, ysize, bufx, bufy)"
   ]
  },
  {
   "cell_type": "code",
   "execution_count": null,
   "metadata": {},
   "outputs": [],
   "source": [
    "print(r)"
   ]
  },
  {
   "cell_type": "code",
   "execution_count": null,
   "metadata": {},
   "outputs": [],
   "source": [
    "print(type(r))\n",
    "print(r.dtype)"
   ]
  },
  {
   "cell_type": "code",
   "execution_count": null,
   "metadata": {},
   "outputs": [],
   "source": [
    "g = greenband.ReadAsArray()\n",
    "b = blueband.ReadAsArray()"
   ]
  },
  {
   "cell_type": "markdown",
   "metadata": {},
   "source": [
    "#### Let's display our image"
   ]
  },
  {
   "cell_type": "code",
   "execution_count": null,
   "metadata": {},
   "outputs": [],
   "source": [
    "import matplotlib.pyplot as plt\n",
    "from matplotlib.pyplot import imshow\n",
    "import numpy as np"
   ]
  },
  {
   "cell_type": "code",
   "execution_count": null,
   "metadata": {},
   "outputs": [],
   "source": [
    "rgb = np.dstack((r,g,b))  # convert to r,g,b tuples"
   ]
  },
  {
   "cell_type": "code",
   "execution_count": null,
   "metadata": {},
   "outputs": [],
   "source": [
    "rgb;"
   ]
  },
  {
   "cell_type": "code",
   "execution_count": null,
   "metadata": {},
   "outputs": [],
   "source": [
    "plt.imshow(rgb, interpolation='nearest');"
   ]
  },
  {
   "cell_type": "code",
   "execution_count": null,
   "metadata": {},
   "outputs": [],
   "source": [
    "fig = plt.figure(figsize=(16,9))\n",
    "plt.imshow(rgb, interpolation='nearest');"
   ]
  },
  {
   "cell_type": "code",
   "execution_count": null,
   "metadata": {},
   "outputs": [],
   "source": [
    "plt.imshow(b, interpolation='nearest', cmap='gray'); # https://matplotlib.org/3.1.0/tutorials/colors/colormaps.html"
   ]
  },
  {
   "cell_type": "code",
   "execution_count": null,
   "metadata": {},
   "outputs": [],
   "source": [
    "plt.imshow(r, interpolation='nearest', cmap='inferno');"
   ]
  },
  {
   "cell_type": "markdown",
   "metadata": {},
   "source": [
    "### Windowed Reading"
   ]
  },
  {
   "cell_type": "code",
   "execution_count": null,
   "metadata": {},
   "outputs": [],
   "source": [
    "redband = dataset.GetRasterBand(1)\n",
    "greenband = dataset.GetRasterBand(2)\n",
    "blueband = dataset.GetRasterBand(3) \n",
    "\n",
    "r = redband.ReadAsArray(0,0,512,512)   \n",
    "g = greenband.ReadAsArray(0,0,512,512) \n",
    "b = blueband.ReadAsArray(0,0,512,512) "
   ]
  },
  {
   "cell_type": "code",
   "execution_count": null,
   "metadata": {},
   "outputs": [],
   "source": [
    "rgb = np.dstack((r,g,b))"
   ]
  },
  {
   "cell_type": "code",
   "execution_count": null,
   "metadata": {},
   "outputs": [],
   "source": [
    "plt.imshow(rgb, interpolation='nearest');"
   ]
  },
  {
   "cell_type": "markdown",
   "metadata": {},
   "source": [
    "Interpolations:\n",
    "    \n",
    "https://matplotlib.org/3.3.1/gallery/images_contours_and_fields/interpolation_methods.html"
   ]
  },
  {
   "cell_type": "code",
   "execution_count": null,
   "metadata": {},
   "outputs": [],
   "source": [
    "plt.imshow(rgb, interpolation='bicubic');"
   ]
  },
  {
   "cell_type": "code",
   "execution_count": null,
   "metadata": {},
   "outputs": [],
   "source": [
    "dataset = gdal.Open(\"/data/geo/BlueMarble/bluemarble_july_86400x43200.tif\")\n",
    "if dataset is None:\n",
    "    raise IOError(\"error\")"
   ]
  },
  {
   "cell_type": "code",
   "execution_count": null,
   "metadata": {},
   "outputs": [],
   "source": [
    "redband = dataset.GetRasterBand(1)\n",
    "greenband = dataset.GetRasterBand(2)\n",
    "blueband = dataset.GetRasterBand(3) \n",
    "\n",
    "width = dataset.RasterXSize\n",
    "height = dataset.RasterYSize\n",
    "print(width, height)"
   ]
  },
  {
   "cell_type": "code",
   "execution_count": null,
   "metadata": {},
   "outputs": [],
   "source": [
    "print(3*width*height / 1024 / 1024, \"MB\")"
   ]
  },
  {
   "cell_type": "code",
   "execution_count": null,
   "metadata": {},
   "outputs": [],
   "source": [
    "print(3*width*height / 1024 / 1024 / 1024, \"GB\")"
   ]
  },
  {
   "cell_type": "code",
   "execution_count": null,
   "metadata": {},
   "outputs": [],
   "source": [
    "%%timeit -n1 -r1\n",
    "r = redband.ReadAsArray(0,0,86400, 43200, 2048, 1024)    # Optional parameters: (xoff, yoff, xsize, ysize, bufx, bufy)\n",
    "g = greenband.ReadAsArray(0,0,86400, 43200, 2048, 1024) \n",
    "b = blueband.ReadAsArray(0,0,86400, 43200, 2048, 1024) "
   ]
  },
  {
   "cell_type": "markdown",
   "metadata": {},
   "source": [
    "#### This is quite fast!\n",
    "\n",
    "Let's display it, this can't be??"
   ]
  },
  {
   "cell_type": "code",
   "execution_count": null,
   "metadata": {},
   "outputs": [],
   "source": [
    "rgb = np.dstack((r,g,b))"
   ]
  },
  {
   "cell_type": "code",
   "execution_count": null,
   "metadata": {},
   "outputs": [],
   "source": [
    "f = plt.figure(figsize=(4, 3))\n",
    "plt.imshow(rgb);"
   ]
  },
  {
   "cell_type": "markdown",
   "metadata": {},
   "source": [
    "### Reason: Overviews"
   ]
  },
  {
   "cell_type": "code",
   "execution_count": null,
   "metadata": {},
   "outputs": [],
   "source": [
    "print(redband.GetOverviewCount())\n",
    "print(greenband.GetOverviewCount())\n",
    "print(blueband.GetOverviewCount())"
   ]
  },
  {
   "cell_type": "code",
   "execution_count": null,
   "metadata": {},
   "outputs": [],
   "source": [
    "width/2, height/2"
   ]
  },
  {
   "cell_type": "code",
   "execution_count": null,
   "metadata": {},
   "outputs": [],
   "source": [
    "width/4, height/4"
   ]
  },
  {
   "cell_type": "code",
   "execution_count": null,
   "metadata": {},
   "outputs": [],
   "source": [
    "width/8, height/8"
   ]
  },
  {
   "cell_type": "code",
   "execution_count": null,
   "metadata": {},
   "outputs": [],
   "source": [
    "width/16, height/16"
   ]
  },
  {
   "cell_type": "code",
   "execution_count": null,
   "metadata": {},
   "outputs": [],
   "source": [
    "dataset = None  # free all memory"
   ]
  },
  {
   "cell_type": "markdown",
   "metadata": {},
   "source": [
    "### Windowed Reading for processing large datasets\n",
    "\n",
    "For the following examples we're using our small dataset for this, or we run out of memory, because we'll do some stupid things..."
   ]
  },
  {
   "cell_type": "code",
   "execution_count": null,
   "metadata": {},
   "outputs": [],
   "source": [
    "dataset = gdal.Open(\"geodata/world.tif\")\n",
    "if dataset is None:\n",
    "    print(\"error\")"
   ]
  },
  {
   "cell_type": "markdown",
   "metadata": {},
   "source": [
    "lets get the min and max read pixel in the dataset"
   ]
  },
  {
   "cell_type": "code",
   "execution_count": null,
   "metadata": {},
   "outputs": [],
   "source": [
    "redband = dataset.GetRasterBand(1)\n",
    "greenband = dataset.GetRasterBand(2)\n",
    "blueband = dataset.GetRasterBand(3) \n",
    "\n",
    "width = dataset.RasterXSize\n",
    "height = dataset.RasterYSize"
   ]
  },
  {
   "cell_type": "code",
   "execution_count": null,
   "metadata": {},
   "outputs": [],
   "source": [
    "!ls geodata/world.tif -lah"
   ]
  },
  {
   "cell_type": "markdown",
   "metadata": {},
   "source": [
    "#### Pixelwise reading - don't do that ever!"
   ]
  },
  {
   "cell_type": "code",
   "execution_count": null,
   "metadata": {},
   "outputs": [],
   "source": [
    "%%timeit -n1 -r1\n",
    "\n",
    "maxred_total = 0\n",
    "\n",
    "for i in range(height):\n",
    "    for j in range(width):\n",
    "        r = redband.ReadAsArray(j,i,1,1)    # every pixel...\n",
    "        g = greenband.ReadAsArray(j,i,1,1)\n",
    "        b = blueband.ReadAsArray(j,i,1,1)\n",
    "    \n",
    "        # and now calc the max red pixel:\n",
    "    \n",
    "        maxred_pixel = r[0][0] # current read value\n",
    "        maxred_total = max(maxred_total, maxred_pixel)"
   ]
  },
  {
   "cell_type": "code",
   "execution_count": null,
   "metadata": {},
   "outputs": [],
   "source": [
    "!gdalinfo geodata/world.tif "
   ]
  },
  {
   "cell_type": "markdown",
   "metadata": {},
   "source": [
    "#### Blockwise reading - the way to go!\n"
   ]
  },
  {
   "cell_type": "code",
   "execution_count": null,
   "metadata": {},
   "outputs": [],
   "source": [
    "%%timeit -n1 -r1\n",
    "\n",
    "maxred_total = 0\n",
    "\n",
    "xBSize = 128\n",
    "yBSize = 128    \n",
    "\n",
    "# it is also possible to get the blocksize by calling: redband.GetBlockSize() \n",
    "# but this is not always reliable...\n",
    "\n",
    "\n",
    "for i in range(0, height, yBSize):\n",
    "    if i + yBSize < height:\n",
    "        numRows = yBSize\n",
    "    else:\n",
    "        numRows = height - i\n",
    "    \n",
    "    for j in range(0, width, xBSize):\n",
    "        if j + xBSize < width:\n",
    "            numCols = xBSize\n",
    "        else:\n",
    "            numCols = width - j\n",
    "            \n",
    "        r = redband.ReadAsArray(j,i,numCols,numRows)\n",
    "        g = greenband.ReadAsArray(j,i,numCols,numRows)\n",
    "        b = blueband.ReadAsArray(j,i,numCols,numRows)\n",
    "        \n",
    "        maxred_block = np.max(r) # max from block\n",
    "        maxred_total = max(maxred_total, maxred_block)"
   ]
  },
  {
   "cell_type": "markdown",
   "metadata": {},
   "source": [
    "## Using Rasterio (Pythonic Interface to GDAL)"
   ]
  },
  {
   "cell_type": "code",
   "execution_count": null,
   "metadata": {},
   "outputs": [],
   "source": [
    "import rasterio"
   ]
  },
  {
   "cell_type": "markdown",
   "metadata": {},
   "source": [
    "### Opening a Raster Data Set"
   ]
  },
  {
   "cell_type": "code",
   "execution_count": null,
   "metadata": {},
   "outputs": [],
   "source": [
    "dataset = rasterio.open('geodata/world.tif')"
   ]
  },
  {
   "cell_type": "code",
   "execution_count": null,
   "metadata": {},
   "outputs": [],
   "source": [
    "dataset.name"
   ]
  },
  {
   "cell_type": "code",
   "execution_count": null,
   "metadata": {},
   "outputs": [],
   "source": [
    "dataset.mode"
   ]
  },
  {
   "cell_type": "code",
   "execution_count": null,
   "metadata": {},
   "outputs": [],
   "source": [
    "dataset.count"
   ]
  },
  {
   "cell_type": "code",
   "execution_count": null,
   "metadata": {},
   "outputs": [],
   "source": [
    "dataset.indexes"
   ]
  },
  {
   "cell_type": "code",
   "execution_count": null,
   "metadata": {},
   "outputs": [],
   "source": [
    "dataset.width"
   ]
  },
  {
   "cell_type": "code",
   "execution_count": null,
   "metadata": {},
   "outputs": [],
   "source": [
    "dataset.height"
   ]
  },
  {
   "cell_type": "code",
   "execution_count": null,
   "metadata": {},
   "outputs": [],
   "source": [
    "dataset.crs"
   ]
  },
  {
   "cell_type": "code",
   "execution_count": null,
   "metadata": {},
   "outputs": [],
   "source": [
    "dataset.transform "
   ]
  },
  {
   "cell_type": "code",
   "execution_count": null,
   "metadata": {},
   "outputs": [],
   "source": [
    "~dataset.transform"
   ]
  },
  {
   "cell_type": "code",
   "execution_count": null,
   "metadata": {},
   "outputs": [],
   "source": [
    "dataset.bounds"
   ]
  },
  {
   "cell_type": "code",
   "execution_count": null,
   "metadata": {},
   "outputs": [],
   "source": [
    "print(dataset.bounds.left)\n",
    "print(dataset.bounds.bottom)\n",
    "print(dataset.bounds.right)\n",
    "print(dataset.bounds.top)"
   ]
  },
  {
   "cell_type": "code",
   "execution_count": null,
   "metadata": {},
   "outputs": [],
   "source": [
    "dataset.transform * (0, 0)  # Transformation Pixel(0,0)"
   ]
  },
  {
   "cell_type": "code",
   "execution_count": null,
   "metadata": {},
   "outputs": [],
   "source": [
    "~dataset.transform * (0, 0) # Inverse Transformation WGS84(0,0)"
   ]
  },
  {
   "cell_type": "code",
   "execution_count": null,
   "metadata": {},
   "outputs": [],
   "source": [
    "~dataset.transform * (8.539434, 47.378109)"
   ]
  },
  {
   "cell_type": "code",
   "execution_count": null,
   "metadata": {},
   "outputs": [],
   "source": [
    "px,py = ~dataset.transform * (8.539434, 47.378109)\n",
    "print(px,py)"
   ]
  },
  {
   "cell_type": "markdown",
   "metadata": {},
   "source": [
    "### Reading Data"
   ]
  },
  {
   "cell_type": "code",
   "execution_count": null,
   "metadata": {},
   "outputs": [],
   "source": [
    "%matplotlib inline\n",
    "import matplotlib.pyplot as plt\n",
    "import numpy as np"
   ]
  },
  {
   "cell_type": "code",
   "execution_count": null,
   "metadata": {},
   "outputs": [],
   "source": [
    "dataset = rasterio.open(\"geodata/world.tif\", 'r')\n",
    "\n",
    "r = dataset.read(1)\n",
    "g = dataset.read(2)\n",
    "b = dataset.read(3)\n",
    "\n",
    "# scaled:\n",
    "#r = dataset.read(1, out_shape=(100,200))\n",
    "#g = dataset.read(2, out_shape=(100,200))\n",
    "#b = dataset.read(3, out_shape=(100,200))"
   ]
  },
  {
   "cell_type": "code",
   "execution_count": null,
   "metadata": {},
   "outputs": [],
   "source": [
    "rgb = np.dstack((r,g,b))  # create (r,g,b) tuples for each pixel"
   ]
  },
  {
   "cell_type": "code",
   "execution_count": null,
   "metadata": {},
   "outputs": [],
   "source": [
    "fig, ax = plt.subplots(figsize=(15,9))\n",
    "ax.imshow(rgb, interpolation='nearest')\n",
    "ax.plot(px,py, 'ro');"
   ]
  },
  {
   "cell_type": "markdown",
   "metadata": {},
   "source": [
    "### Windowed read in rasterio"
   ]
  },
  {
   "cell_type": "code",
   "execution_count": null,
   "metadata": {},
   "outputs": [],
   "source": [
    "import rasterio \n",
    "\n",
    "dataset = rasterio.open('geodata/world.tif')"
   ]
  },
  {
   "cell_type": "code",
   "execution_count": null,
   "metadata": {},
   "outputs": [],
   "source": [
    "w = ((256,512),(1024,1280))\n",
    "\n",
    "r = dataset.read(1, window=w)\n",
    "g = dataset.read(2, window=w)\n",
    "b = dataset.read(3, window=w)"
   ]
  },
  {
   "cell_type": "code",
   "execution_count": null,
   "metadata": {},
   "outputs": [],
   "source": [
    "rgb = np.dstack((r,g,b))"
   ]
  },
  {
   "cell_type": "code",
   "execution_count": null,
   "metadata": {},
   "outputs": [],
   "source": [
    "fig, ax = plt.subplots(figsize=(15,9))\n",
    "ax.imshow(rgb, interpolation='nearest');"
   ]
  },
  {
   "cell_type": "code",
   "execution_count": null,
   "metadata": {},
   "outputs": [],
   "source": []
  }
 ],
 "metadata": {
  "kernelspec": {
   "display_name": "GeoPython",
   "language": "python",
   "name": "geopython"
  },
  "language_info": {
   "codemirror_mode": {
    "name": "ipython",
    "version": 3
   },
   "file_extension": ".py",
   "mimetype": "text/x-python",
   "name": "python",
   "nbconvert_exporter": "python",
   "pygments_lexer": "ipython3",
   "version": "3.7.7"
  }
 },
 "nbformat": 4,
 "nbformat_minor": 4
}
