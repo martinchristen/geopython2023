{
 "cells": [
  {
   "cell_type": "markdown",
   "metadata": {},
   "source": [
    "# Creating Web Maps using Folium\n",
    "\n",
    "Folium is a powerful Python library that helps you create several types of Leaflet maps. By default, Folium creates a map in a separate HTML file. Since Folium results are interactive, this library is very useful for dashboard building. You can also create inline Jupyter maps in Folium\n",
    "\n",
    "https://python-visualization.github.io/folium/\n",
    "\n"
   ]
  },
  {
   "cell_type": "code",
   "execution_count": null,
   "metadata": {},
   "outputs": [],
   "source": [
    "import folium"
   ]
  },
  {
   "cell_type": "code",
   "execution_count": null,
   "metadata": {},
   "outputs": [],
   "source": [
    "m = folium.Map(location=[47.37825,8.5367835], zoom_start=18) # Zürich, Switzerland\n",
    "m"
   ]
  },
  {
   "cell_type": "code",
   "execution_count": null,
   "metadata": {},
   "outputs": [],
   "source": [
    "m = folium.Map(location=[47.37825,8.5367835],\n",
    "           tiles='Stamen Toner',   # \"OpenStreetMap\", \"Stamen Terrain\", \"Stamen Toner\"\n",
    "           zoom_start=14)\n",
    "m"
   ]
  },
  {
   "cell_type": "markdown",
   "metadata": {},
   "source": [
    "### Adding Markers"
   ]
  },
  {
   "cell_type": "code",
   "execution_count": null,
   "metadata": {},
   "outputs": [],
   "source": [
    "m = folium.Map(location=[47.37825,8.5367835], zoom_start=16)\n",
    "\n",
    "folium.Marker([47.37695,8.5387885], popup=\"Hotel <b>Schweizerhof</b><br/><br/>This hotel is located in the center\").add_to(m)\n",
    "folium.Marker([47.376386,8.5386506], popup=\"Hotel St. Gotthard\").add_to(m)\n",
    "m"
   ]
  },
  {
   "cell_type": "markdown",
   "metadata": {},
   "source": [
    "### Using Markers with FontAwesome (\"fa\")\n",
    "\n",
    "https://fontawesome.com/icons?d=gallery&m=free"
   ]
  },
  {
   "cell_type": "code",
   "execution_count": null,
   "metadata": {},
   "outputs": [],
   "source": [
    "m = folium.Map(location=[47.37825,8.5367835], zoom_start=16)\n",
    "\n",
    "folium.Marker([47.37695,8.5387885], \n",
    "              popup=\"Hotel Schweizerhof\",\n",
    "              icon=folium.Icon(color=\"red\", prefix=\"fa\", icon=\"hotel\")).add_to(m)\n",
    "\n",
    "folium.Marker([47.376386,8.5386506], \n",
    "              popup=\"Hotel St. Gotthard\",\n",
    "              icon=folium.Icon(color=\"green\", prefix=\"fa\", icon=\"hotel\")).add_to(m)\n",
    "\n",
    "folium.Marker([47.376192, 8.540005], \n",
    "              popup=\"Hotel Townhouse\", \n",
    "              icon=folium.Icon(color=\"blue\", prefix=\"fa\", icon=\"beer\")).add_to(m)\n",
    "\n",
    "m"
   ]
  },
  {
   "cell_type": "markdown",
   "metadata": {},
   "source": [
    "### Saving Maps as HTML\n",
    "\n",
    "Example: Mountain Tops"
   ]
  },
  {
   "cell_type": "code",
   "execution_count": null,
   "metadata": {},
   "outputs": [],
   "source": [
    "m = folium.Map(location=[45.922513343092916, 7.835574679184418], zoom_start=9)\n",
    "\n",
    "folium.Marker([45.922513343092916, 7.835574679184418], popup='Liskamm: 4527m').add_to(m)\n",
    "folium.Marker([45.941997570720375, 7.869820276613906], popup='Nordend: 4609m').add_to(m)\n",
    "folium.Marker([46.10902325837147, 7.863895545667632], popup='Nadelhorn: 4327m').add_to(m)\n",
    "folium.Marker([45.932186337151684, 7.8714190183674555], popup='Zumsteinspitze: 4563m').add_to(m)\n",
    "folium.Marker([46.08336532442726, 7.857296913890337], popup='Täschhorn: 4491m').add_to(m)\n",
    "folium.Marker([45.91669904679932, 7.863563975062021], popup='Ludwigshöhe: 4341m').add_to(m)\n",
    "folium.Marker([45.93756139078208, 7.299279971077615], popup='Grand Combin de Grafeneire: 4314m').add_to(m)\n",
    "folium.Marker([45.922513343092916, 7.835574679184418], popup='Lyskamm: 4527m').add_to(m)\n",
    "folium.Marker([45.93683662540408, 7.866814344981748], popup='Dufourspitze (Pointe Dufour): 4634m').add_to(m)\n",
    "folium.Marker([46.10129664518156, 7.716156885858494], popup='Weisshorn: 4506m').add_to(m)\n",
    "folium.Marker([45.976340506120614, 7.658691510512221], popup='Monte Cervino: 4478m').add_to(m)\n",
    "folium.Marker([45.976340506120614, 7.658691510512221], popup='Matterhorn: 4478m').add_to(m)\n",
    "folium.Marker([45.93674004101607, 7.86855410887458], popup='Grenzgipfel: 4618m').add_to(m)\n",
    "folium.Marker([45.92712756883081, 7.876921984235257], popup='Signalkuppe (Punta Gnifetti): 4554m').add_to(m)\n",
    "folium.Marker([46.093839189553464, 7.858928716434883], popup='Dom: 4545m').add_to(m)\n",
    "folium.Marker([46.107109586833495, 7.711724522200983], popup='Grand Gendarme: 4331m').add_to(m)\n",
    "folium.Marker([45.919638502715564, 7.8711910872756405], popup='Parrotspitze: 4432m').add_to(m)\n",
    "folium.Marker([46.093839189553464, 7.858928716434883], popup='Mischabel: 4545m').add_to(m)\n",
    "folium.Marker([46.03426257063022, 7.61204033560156], popup='Dent Blanche: 4357m').add_to(m)\n",
    "\n",
    "m.save(\"mountain_tops.html\")\n",
    "m"
   ]
  },
  {
   "cell_type": "markdown",
   "metadata": {},
   "source": [
    "## GeoPandas Geometry to Folium Map\n",
    "\n",
    "We already downloaded the natural earth dataset in lesson 3, if you skipped it somehow, I added the code to reinstall it..."
   ]
  },
  {
   "cell_type": "code",
   "execution_count": null,
   "metadata": {},
   "outputs": [],
   "source": [
    "import geoutils\n",
    "import zipfile\n",
    "import os\n",
    "\n",
    "if not os.path.exists(\"geodata\"):\n",
    "    os.mkdir(\"geodata\")\n",
    "\n",
    "if not os.path.exists(\"geodata/packages/natural_earth_vector.gpkg\"):\n",
    "    ne = geoutils.geodata[\"natural-earth\"] # URL to Natural Earth Dataset (GeoPackage Format)\n",
    "    geoutils.download(ne, \"geodata/ne.gpkg.zip\")\n",
    "else:\n",
    "    print(\"Dataset is already downloaded\")\n",
    "    \n",
    "if not os.path.exists(\"geodata/packages/natural_earth_vector.gpkg\"):\n",
    "    with zipfile.ZipFile(\"geodata/ne.gpkg.zip\", 'r') as z:\n",
    "        z.extractall(\"geodata\")"
   ]
  },
  {
   "cell_type": "code",
   "execution_count": null,
   "metadata": {},
   "outputs": [],
   "source": [
    "import geopandas as gpd\n",
    "%matplotlib inline\n",
    "\n",
    "\n",
    "gdfCountries = gpd.read_file(\"geodata/packages/natural_earth_vector.gpkg\", \n",
    "                              layer=\"ne_10m_admin_0_countries\", \n",
    "                              encoding=\"utf-8\")\n",
    "\n",
    "\n",
    "gdfQuery = gdfCountries.query(\"NAME == 'France'\")\n",
    "jsondata = gdfQuery.to_json()"
   ]
  },
  {
   "cell_type": "code",
   "execution_count": null,
   "metadata": {},
   "outputs": [],
   "source": [
    "jsondata;"
   ]
  },
  {
   "cell_type": "code",
   "execution_count": null,
   "metadata": {},
   "outputs": [],
   "source": [
    "m = folium.Map(location=[47.37825,8.5367835], zoom_start=6)\n",
    "\n",
    "folium.GeoJson(\n",
    "    jsondata,\n",
    "    style_function=lambda feature: {\n",
    "        'fillColor': '#ffff00',\n",
    "        'color': 'black',\n",
    "        'weight': 2,\n",
    "        'dashArray': '5, 5'\n",
    "    }\n",
    ").add_to(m)\n",
    "\n",
    "m"
   ]
  },
  {
   "cell_type": "markdown",
   "metadata": {},
   "source": [
    "## Adding OpenStreetMap Data\n"
   ]
  },
  {
   "cell_type": "code",
   "execution_count": null,
   "metadata": {},
   "outputs": [],
   "source": [
    "%matplotlib inline\n",
    "\n",
    "import osmnx as ox\n",
    "import networkx as nx\n",
    "import pandas as pd\n",
    "import geopandas as gpd\n",
    "import matplotlib.pyplot as plt\n",
    "import seaborn as sns"
   ]
  },
  {
   "cell_type": "code",
   "execution_count": null,
   "metadata": {},
   "outputs": [],
   "source": [
    "ox.config(use_cache=True, log_console=False)"
   ]
  },
  {
   "cell_type": "markdown",
   "metadata": {},
   "source": [
    "### Retrieve Street Network from OSM Data\n",
    "\n",
    "* drive - get drivable public streets (but not service roads)\n",
    "* drive_service - get drivable streets, including service roads\n",
    "* walk - get all streets and paths that pedestrians can use (this network type ignores one-way directionality)\n",
    "* bike - get all streets and paths that cyclists can use\n",
    "* all - download all non-private OSM streets and paths\n",
    "* all_private - download all OSM streets and paths, including private-access ones"
   ]
  },
  {
   "cell_type": "code",
   "execution_count": null,
   "metadata": {},
   "outputs": [],
   "source": [
    "place = \"Basel, Switzerland\"\n",
    "graph = ox.graph_from_place(place, network_type='drive')"
   ]
  },
  {
   "cell_type": "code",
   "execution_count": null,
   "metadata": {},
   "outputs": [],
   "source": [
    "fig, ax = ox.plot_graph(graph)"
   ]
  },
  {
   "cell_type": "markdown",
   "metadata": {},
   "source": [
    "#### Save Graph as ESRI Shapefile"
   ]
  },
  {
   "cell_type": "code",
   "execution_count": null,
   "metadata": {},
   "outputs": [],
   "source": [
    "ox.save_graph_shapefile(graph, filepath='network-shape')"
   ]
  },
  {
   "cell_type": "code",
   "execution_count": null,
   "metadata": {},
   "outputs": [],
   "source": [
    "nodes, streets = ox.graph_to_gdfs(graph)"
   ]
  },
  {
   "cell_type": "code",
   "execution_count": null,
   "metadata": {},
   "outputs": [],
   "source": [
    "len(streets)"
   ]
  },
  {
   "cell_type": "code",
   "execution_count": null,
   "metadata": {},
   "outputs": [],
   "source": [
    "streets.head()"
   ]
  },
  {
   "cell_type": "code",
   "execution_count": null,
   "metadata": {},
   "outputs": [],
   "source": [
    "street_types = pd.DataFrame(streets[\"highway\"].apply(pd.Series)[0].value_counts().reset_index())\n",
    "street_types.columns = [\"type\", \"count\"]"
   ]
  },
  {
   "cell_type": "code",
   "execution_count": null,
   "metadata": {},
   "outputs": [],
   "source": [
    "street_types"
   ]
  },
  {
   "cell_type": "code",
   "execution_count": null,
   "metadata": {},
   "outputs": [],
   "source": [
    "fig, ax = plt.subplots(figsize=(8,5))\n",
    "sns.barplot(y=\"type\", x=\"count\", data=street_types, ax=ax)\n",
    "plt.tight_layout()\n",
    "plt.show();"
   ]
  },
  {
   "cell_type": "markdown",
   "metadata": {},
   "source": [
    "### Putting the Street Network on a Folium Map"
   ]
  },
  {
   "cell_type": "code",
   "execution_count": null,
   "metadata": {},
   "outputs": [],
   "source": [
    "m = folium.Map([47.561086, 7.588686],\n",
    "zoom_start=13,tiles=\"CartoDB dark_matter\")\n",
    "\n",
    "jsondata = streets.to_json()\n",
    "\n",
    "style = {'color': '#FFDD66', \n",
    "         'weight':'1'}\n",
    "folium.GeoJson(jsondata, style_function=lambda x: style).add_to(m)\n",
    "m"
   ]
  },
  {
   "cell_type": "markdown",
   "metadata": {},
   "source": [
    "### Routing\n",
    "\n",
    "There are two train stations in Basel, lets find the route between them:"
   ]
  },
  {
   "cell_type": "code",
   "execution_count": null,
   "metadata": {},
   "outputs": [],
   "source": [
    "train_station_1 = ox.geocode('Badischer Bahnhof, Basel Switzerland')\n",
    "train_station_1"
   ]
  },
  {
   "cell_type": "code",
   "execution_count": null,
   "metadata": {},
   "outputs": [],
   "source": [
    "train_station_2 = ox.geocode('Bahnhof SBB, Basel, Switzerland')\n",
    "train_station_2"
   ]
  },
  {
   "cell_type": "markdown",
   "metadata": {},
   "source": [
    "#### Let's add them as POI to the map **above**:"
   ]
  },
  {
   "cell_type": "code",
   "execution_count": null,
   "metadata": {},
   "outputs": [],
   "source": [
    "m = folium.Map([47.561086, 7.588686], zoom_start=13,tiles=\"CartoDB dark_matter\")\n",
    "\n",
    "#jsondata = streets.to_json()\n",
    "\n",
    "style = {'color': '#FFDD66', \n",
    "         'weight':'1'}\n",
    "folium.GeoJson(jsondata, style_function=lambda x: style).add_to(m)\n",
    "\n",
    "folium.Marker(train_station_1, \n",
    "              popup=\"Badischer Bahnhof\",\n",
    "              icon=folium.Icon(color=\"green\", prefix=\"fa\", icon=\"train\")).add_to(m)\n",
    "\n",
    "folium.Marker(train_station_2, \n",
    "              popup=\"Bahnhof SBB\",\n",
    "              icon=folium.Icon(color=\"red\", prefix=\"fa\", icon=\"train\")).add_to(m)\n",
    "m"
   ]
  },
  {
   "cell_type": "code",
   "execution_count": null,
   "metadata": {},
   "outputs": [],
   "source": [
    "origin_node = ox.get_nearest_node(graph, train_station_1)\n",
    "destination_node = ox.get_nearest_node(graph, train_station_2)"
   ]
  },
  {
   "cell_type": "markdown",
   "metadata": {},
   "source": [
    "#### Find the route between the nodes\n",
    "\n",
    "Using NetworkX module to calculate"
   ]
  },
  {
   "cell_type": "code",
   "execution_count": null,
   "metadata": {},
   "outputs": [],
   "source": [
    "route = nx.shortest_path(graph, origin_node, destination_node)"
   ]
  },
  {
   "cell_type": "code",
   "execution_count": null,
   "metadata": {},
   "outputs": [],
   "source": [
    "fig, ax = ox.plot_graph_route(graph, route)"
   ]
  },
  {
   "cell_type": "code",
   "execution_count": null,
   "metadata": {},
   "outputs": [],
   "source": [
    "from shapely.geometry import LineString\n",
    "\n",
    "line = []\n",
    "for i in route:\n",
    "    point = (graph.nodes[i]['x'],graph.nodes[i]['y'])\n",
    "    line.append(point)\n",
    "    print(point)\n",
    "    \n",
    "ls = LineString(line)"
   ]
  },
  {
   "cell_type": "code",
   "execution_count": null,
   "metadata": {},
   "outputs": [],
   "source": []
  },
  {
   "cell_type": "markdown",
   "metadata": {},
   "source": [
    "#### Create a GeoDataFrame from the LineString (optional)\n"
   ]
  },
  {
   "cell_type": "code",
   "execution_count": null,
   "metadata": {},
   "outputs": [],
   "source": [
    "gdf_route = pd.DataFrame(data= [['route 1',ls]],columns=['route','geometry'])\n",
    "gdf_route"
   ]
  },
  {
   "cell_type": "code",
   "execution_count": null,
   "metadata": {},
   "outputs": [],
   "source": [
    "gdf_route = gpd.GeoDataFrame(gdf_route,geometry='geometry')\n",
    "gdf_route"
   ]
  },
  {
   "cell_type": "code",
   "execution_count": null,
   "metadata": {},
   "outputs": [],
   "source": [
    "gdf_route.plot();"
   ]
  },
  {
   "cell_type": "markdown",
   "metadata": {},
   "source": [
    "Convert this route to GeoJSON"
   ]
  },
  {
   "cell_type": "code",
   "execution_count": null,
   "metadata": {},
   "outputs": [],
   "source": [
    "jsonroute = gdf_route.to_json()"
   ]
  },
  {
   "cell_type": "code",
   "execution_count": null,
   "metadata": {},
   "outputs": [],
   "source": [
    "m = folium.Map([47.561086, 7.588686], zoom_start=13,tiles=\"CartoDB dark_matter\")\n",
    "\n",
    "#jsondata = streets.to_json()\n",
    "\n",
    "style = {'color': '#FFDD66', \n",
    "         'weight':'1'}\n",
    "\n",
    "route_style = {'color': '#FF0000',\n",
    "              'weight' : '4'}\n",
    "\n",
    "folium.GeoJson(jsondata, style_function=lambda x: style).add_to(m)\n",
    "folium.GeoJson(jsonroute, style_function=lambda x: route_style).add_to(m)\n",
    "\n",
    "folium.Marker(train_station_1, \n",
    "              popup=\"Badischer Bahnhof\",\n",
    "              icon=folium.Icon(color=\"green\", prefix=\"fa\", icon=\"train\")).add_to(m)\n",
    "\n",
    "folium.Marker(train_station_2, \n",
    "              popup=\"Bahnhof SBB\",\n",
    "              icon=folium.Icon(color=\"red\", prefix=\"fa\", icon=\"train\")).add_to(m)\n",
    "m"
   ]
  },
  {
   "cell_type": "markdown",
   "metadata": {},
   "source": [
    "### Building Footprints"
   ]
  },
  {
   "cell_type": "code",
   "execution_count": null,
   "metadata": {},
   "outputs": [],
   "source": [
    "buildings = ox.geometries_from_place(\"Basel, Switzerland\", tags={'building':True})\n",
    "\n",
    "buildings.shape"
   ]
  },
  {
   "cell_type": "code",
   "execution_count": null,
   "metadata": {},
   "outputs": [],
   "source": [
    "buildings.head()"
   ]
  },
  {
   "cell_type": "code",
   "execution_count": null,
   "metadata": {},
   "outputs": [],
   "source": [
    "ox.plot_footprints(buildings, figsize=(16,15));"
   ]
  },
  {
   "cell_type": "markdown",
   "metadata": {},
   "source": [
    "### Retrieving Buildings"
   ]
  },
  {
   "cell_type": "code",
   "execution_count": null,
   "metadata": {},
   "outputs": [],
   "source": [
    "museum = buildings.query(\"tourism == 'museum'\")\n",
    "museum = museum[['name', 'geometry']]\n",
    "museum.head(20)"
   ]
  },
  {
   "cell_type": "code",
   "execution_count": null,
   "metadata": {},
   "outputs": [],
   "source": [
    "ox.plot_footprints(museum, figsize=(16,15));"
   ]
  },
  {
   "cell_type": "markdown",
   "metadata": {},
   "source": [
    "### Putting those Buildings on a Folium Map"
   ]
  },
  {
   "cell_type": "code",
   "execution_count": null,
   "metadata": {},
   "outputs": [],
   "source": [
    "import html\n",
    "\n",
    "m = folium.Map([47.561086, 7.588686],zoom_start=15)\n",
    "\n",
    "\n",
    "style = {'color': '#FF0000',\n",
    "         'fillColor': '#FFFF00',\n",
    "         'weight':'2'\n",
    "        }\n",
    "\n",
    "def building(building):\n",
    "    jsondata = gpd.GeoSeries([building[\"geometry\"]]).to_json()\n",
    "    name = html.escape(building[\"name\"]) \n",
    "    folium.GeoJson(jsondata, style_function=lambda x: style).add_child(folium.Popup(name)).add_to(m)\n",
    "\n",
    "museum.apply(building, axis=1)\n",
    "\n",
    "m.save(\"museums.html\")\n",
    "m"
   ]
  },
  {
   "cell_type": "markdown",
   "metadata": {},
   "source": [
    "### Creating POI out of buildings"
   ]
  },
  {
   "cell_type": "code",
   "execution_count": null,
   "metadata": {},
   "outputs": [],
   "source": [
    "def get_geometry(x):\n",
    "    g = x[\"geometry\"]\n",
    "    c = g.centroid\n",
    "    return c\n",
    "   \n",
    "centroid = museum.apply(get_geometry, axis=1)"
   ]
  },
  {
   "cell_type": "code",
   "execution_count": null,
   "metadata": {},
   "outputs": [],
   "source": [
    "museum[\"centroid\"] = centroid "
   ]
  },
  {
   "cell_type": "code",
   "execution_count": null,
   "metadata": {},
   "outputs": [],
   "source": [
    "museum.head()"
   ]
  },
  {
   "cell_type": "code",
   "execution_count": null,
   "metadata": {},
   "outputs": [],
   "source": [
    "import html\n",
    "\n",
    "m = folium.Map([47.561086, 7.588686],zoom_start=15)\n",
    "\n",
    "\n",
    "def building(building):\n",
    "    lng = building[\"centroid\"].x\n",
    "    lat = building[\"centroid\"].y\n",
    "\n",
    "    name = html.escape(building[\"name\"])\n",
    "   \n",
    "    folium.Marker([lat,lng], \n",
    "              popup=name,\n",
    "              icon=folium.Icon(color=\"red\", prefix=\"fa\", icon=\"university\")).add_to(m)\n",
    "\n",
    "\n",
    "museum.apply(building, axis=1)\n",
    "\n",
    "m"
   ]
  },
  {
   "cell_type": "markdown",
   "metadata": {},
   "source": [
    "### Retrieve POI from OSM"
   ]
  },
  {
   "cell_type": "code",
   "execution_count": null,
   "metadata": {},
   "outputs": [],
   "source": [
    "atm = ox.pois_from_place(\"Basel, Switzerland\", tags={'amenity': 'atm'})"
   ]
  },
  {
   "cell_type": "code",
   "execution_count": null,
   "metadata": {},
   "outputs": [],
   "source": [
    "len(atm)"
   ]
  },
  {
   "cell_type": "code",
   "execution_count": null,
   "metadata": {},
   "outputs": [],
   "source": [
    "atm.head()"
   ]
  },
  {
   "cell_type": "code",
   "execution_count": null,
   "metadata": {},
   "outputs": [],
   "source": [
    "import html\n",
    "\n",
    "m = folium.Map([47.561086, 7.588686],zoom_start=15)\n",
    "\n",
    "\n",
    "def atm2poi(x):\n",
    "    lng = x[\"geometry\"].x\n",
    "    lat = x[\"geometry\"].y\n",
    "    operator = x[\"operator\"]\n",
    "\n",
    "    if type(operator) == str:\n",
    "        name = html.escape(operator)\n",
    "    else:\n",
    "        name = \"unkown bank\"\n",
    "   \n",
    "    folium.Marker([lat,lng], \n",
    "              popup=name,\n",
    "              icon=folium.Icon(color=\"green\", prefix=\"fa\", icon=\"credit-card\")).add_to(m)\n",
    "\n",
    "\n",
    "atm.apply(atm2poi, axis=1)\n",
    "\n",
    "m"
   ]
  }
 ],
 "metadata": {
  "kernelspec": {
   "display_name": "GeoPython",
   "language": "python",
   "name": "geopython"
  },
  "language_info": {
   "codemirror_mode": {
    "name": "ipython",
    "version": 3
   },
   "file_extension": ".py",
   "mimetype": "text/x-python",
   "name": "python",
   "nbconvert_exporter": "python",
   "pygments_lexer": "ipython3",
   "version": "3.7.7"
  }
 },
 "nbformat": 4,
 "nbformat_minor": 4
}
